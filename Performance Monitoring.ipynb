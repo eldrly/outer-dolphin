{
 "cells": [
  {
   "cell_type": "markdown",
   "metadata": {},
   "source": [
    "###Notebook for Monitoring and logging Local System Performance"
   ]
  },
  {
   "cell_type": "code",
   "execution_count": null,
   "metadata": {},
   "outputs": [],
   "source": [
    "import psutil\n",
    "import time\n",
    "import datetime\n",
    "import pandas as pd\n",
    "import numpy as np"
   ]
  },
  {
   "cell_type": "code",
   "execution_count": null,
   "metadata": {},
   "outputs": [],
   "source": [
    "app_start_time = round(time.time(),2)"
   ]
  },
  {
   "cell_type": "code",
   "execution_count": null,
   "metadata": {},
   "outputs": [],
   "source": [
    "app_start_time"
   ]
  },
  {
   "cell_type": "code",
   "execution_count": null,
   "metadata": {},
   "outputs": [],
   "source": [
    "columns = ['name','pid','num_threads']\n",
    "#index = pd.date_range(todays_date-datetime.timedelta(10), periods=10,freq='M')"
   ]
  },
  {
   "cell_type": "markdown",
   "metadata": {},
   "source": [
    "#### Create the Master Data Frame"
   ]
  },
  {
   "cell_type": "code",
   "execution_count": null,
   "metadata": {},
   "outputs": [],
   "source": [
    "df = pd.DataFrame(columns = columns)"
   ]
  },
  {
   "cell_type": "markdown",
   "metadata": {},
   "source": [
    "#### Create the Temporary DataFrame to Append to the Master"
   ]
  },
  {
   "cell_type": "code",
   "execution_count": null,
   "metadata": {},
   "outputs": [],
   "source": [
    "#tf = pd.DataFrame(columns = columns)"
   ]
  },
  {
   "cell_type": "code",
   "execution_count": null,
   "metadata": {},
   "outputs": [],
   "source": [
    "#tf"
   ]
  },
  {
   "cell_type": "code",
   "execution_count": null,
   "metadata": {},
   "outputs": [],
   "source": [
    "sample = 0"
   ]
  },
  {
   "cell_type": "code",
   "execution_count": null,
   "metadata": {},
   "outputs": [],
   "source": [
    "index = 0"
   ]
  },
  {
   "cell_type": "code",
   "execution_count": null,
   "metadata": {},
   "outputs": [],
   "source": [
    "application = \"PBIDesktop.exe\"\n",
    "\n",
    "length = 22       # length in minutes of the logging session\n",
    "interval = 5     # length in seconds of the polling interval\n",
    "\n",
    "t_end = time.time() + 60 * int(length)\n",
    "prev_sample_time = round(time.time(),2)        #Set the first occurence of the previous sample time. "
   ]
  },
  {
   "cell_type": "markdown",
   "metadata": {},
   "source": [
    "Loop through the psutils retrieval task."
   ]
  },
  {
   "cell_type": "code",
   "execution_count": null,
   "metadata": {},
   "outputs": [],
   "source": [
    "while (time.time() < t_end):\n",
    "    \n",
    "    while (time.time() - prev_sample_time) > interval:\n",
    "    \n",
    "        prev_sample_time = round(time.time(),2) #Reset the previous sample time to the current sample time. \n",
    "        \n",
    "        #Process currently loops through all the running processes and checks the parent name before obtaining results. \n",
    "        #Better to first identify the PBI parent process and instead loop through its children. \n",
    "        #This will save hundreds of loops through unwanted children. \n",
    "\n",
    "        for proc in psutil.process_iter():\n",
    "\n",
    "            try:\n",
    "                parent = proc.parent()\n",
    "                name = str(parent.name())\n",
    "                if name == application:\n",
    "                    pr = proc.as_dict(attrs= [\"name\",\"pid\",\"num_threads\",\"memory_info\"])\n",
    "                    pr.update({'sample':sample,'parent':parent,'timestamp':str(prev_sample_time)})\n",
    "                    \n",
    "                    #improve performance in future by constructing a dictionary within the loop, then converting to dataframes after loop is finished. \n",
    "                    tf = pd.DataFrame.from_records([pr], index = [index]) \n",
    "                    df = df.append(tf)\n",
    "\n",
    "                    #print(name)\n",
    "\n",
    "            except:\n",
    "                pass\n",
    "\n",
    "            index += 1\n",
    "\n",
    "        print('Sample ' + str(sample) + ' constructed at ' + str(round(prev_sample_time - app_start_time,2)))\n",
    "        #Advance the sample by 1\n",
    "\n",
    "        sample += 1\n",
    "\n",
    "print('While loop finished because condition not met.')"
   ]
  },
  {
   "cell_type": "markdown",
   "metadata": {},
   "source": [
    "#### The Resultant DataFrame"
   ]
  },
  {
   "cell_type": "code",
   "execution_count": null,
   "metadata": {},
   "outputs": [],
   "source": [
    "#df"
   ]
  },
  {
   "cell_type": "markdown",
   "metadata": {},
   "source": [
    "#### UnNest the parent column into its constituent parts, and just take back the name."
   ]
  },
  {
   "cell_type": "code",
   "execution_count": null,
   "metadata": {},
   "outputs": [],
   "source": [
    "df_parent = df['parent'].astype('str').str.split(\",\",expand = True)\n",
    "#df_parent"
   ]
  },
  {
   "cell_type": "code",
   "execution_count": null,
   "metadata": {},
   "outputs": [],
   "source": [
    "#df"
   ]
  },
  {
   "cell_type": "code",
   "execution_count": null,
   "metadata": {},
   "outputs": [],
   "source": [
    "df_parent[1] = df_parent[1].astype('str').str.strip(\" name=\").str.strip(\"'\")"
   ]
  },
  {
   "cell_type": "code",
   "execution_count": null,
   "metadata": {},
   "outputs": [],
   "source": [
    "#df_parent"
   ]
  },
  {
   "cell_type": "code",
   "execution_count": null,
   "metadata": {},
   "outputs": [],
   "source": [
    "df = df.join(df_parent).drop('parent', axis = 'columns').drop([0,2], axis = 'columns')\n",
    "#df"
   ]
  },
  {
   "cell_type": "code",
   "execution_count": null,
   "metadata": {},
   "outputs": [],
   "source": [
    "df = df.rename(columns = {1:'Parent'})"
   ]
  },
  {
   "cell_type": "code",
   "execution_count": null,
   "metadata": {},
   "outputs": [],
   "source": [
    "#df"
   ]
  },
  {
   "cell_type": "markdown",
   "metadata": {},
   "source": [
    "#### Unnest the mem_info column into its constituent parts"
   ]
  },
  {
   "cell_type": "code",
   "execution_count": null,
   "metadata": {},
   "outputs": [],
   "source": [
    "expand = df['memory_info'].astype('str').str.split(expand = True)\n",
    "#expand"
   ]
  },
  {
   "cell_type": "code",
   "execution_count": null,
   "metadata": {},
   "outputs": [],
   "source": [
    "df10 = df.join(expand).drop(['memory_info',1,2,3,4,5,6,7,8,10],axis = 'columns')\n",
    "#df10"
   ]
  },
  {
   "cell_type": "markdown",
   "metadata": {},
   "source": [
    "#### Strip out the the unused text to leave int values. Convert from bytes to megabytes."
   ]
  },
  {
   "cell_type": "code",
   "execution_count": null,
   "metadata": {},
   "outputs": [],
   "source": [
    "df10[9] = df10[9].str.strip('pagefile=').str.strip(',').astype('int64').div(1000000)"
   ]
  },
  {
   "cell_type": "code",
   "execution_count": null,
   "metadata": {},
   "outputs": [],
   "source": [
    "df10[11] = df10[11].str.strip('private=').str.strip(')').astype('int64').div(1000000)"
   ]
  },
  {
   "cell_type": "code",
   "execution_count": null,
   "metadata": {},
   "outputs": [],
   "source": [
    "df10[0] = df10[0].str.strip('pmem(rss=').str.strip(',').astype('int64').div(1000000)"
   ]
  },
  {
   "cell_type": "code",
   "execution_count": null,
   "metadata": {},
   "outputs": [],
   "source": [
    "#df10"
   ]
  },
  {
   "cell_type": "markdown",
   "metadata": {},
   "source": [
    "#### Shape the final dataframe and write out to CSV"
   ]
  },
  {
   "cell_type": "code",
   "execution_count": null,
   "metadata": {},
   "outputs": [],
   "source": [
    "df20 = df10.rename(columns = {0:'Working Set',9:'Pagefile',11:'Private'})"
   ]
  },
  {
   "cell_type": "code",
   "execution_count": null,
   "metadata": {},
   "outputs": [],
   "source": [
    "cols = ['sample','Parent','pid','name','num_threads','Working Set','Pagefile','Private']"
   ]
  },
  {
   "cell_type": "code",
   "execution_count": null,
   "metadata": {},
   "outputs": [],
   "source": [
    "df20 = df20[cols]"
   ]
  },
  {
   "cell_type": "code",
   "execution_count": null,
   "metadata": {},
   "outputs": [],
   "source": [
    "#df20"
   ]
  },
  {
   "cell_type": "code",
   "execution_count": null,
   "metadata": {},
   "outputs": [],
   "source": [
    "df20.to_excel('log.xlsx')"
   ]
  },
  {
   "cell_type": "code",
   "execution_count": null,
   "metadata": {},
   "outputs": [],
   "source": []
  },
  {
   "cell_type": "code",
   "execution_count": null,
   "metadata": {},
   "outputs": [],
   "source": []
  }
 ],
 "metadata": {
  "kernelspec": {
   "display_name": "Python 3",
   "language": "python",
   "name": "python3"
  },
  "language_info": {
   "codemirror_mode": {
    "name": "ipython",
    "version": 3
   },
   "file_extension": ".py",
   "mimetype": "text/x-python",
   "name": "python",
   "nbconvert_exporter": "python",
   "pygments_lexer": "ipython3",
   "version": "3.7.6"
  }
 },
 "nbformat": 4,
 "nbformat_minor": 4
}
